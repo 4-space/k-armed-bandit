{
 "cells": [
  {
   "cell_type": "code",
   "execution_count": 38,
   "metadata": {},
   "outputs": [
    {
     "name": "stdout",
     "output_type": "stream",
     "text": [
      "starting to run\n",
      "slot 0: (0, 11)\n",
      "slot 1: (4, 41)\n",
      "slot 2: (4, 45)\n",
      "slot 3: (4, 59)\n",
      "slot 4: (-5, 30)\n",
      "best slot: 1\n",
      "avg rwd: 4.356277481265069\n"
     ]
    },
    {
     "data": {
      "image/png": "[encoded data removed]",
      "text/plain": [
       "<Figure size 432x288 with 1 Axes>"
      ]
     },
     "metadata": {},
     "output_type": "display_data"
    }
   ],
   "source": [
    "%matplotlib inline  \n",
    "\n",
    "import numpy as np\n",
    "import random\n",
    "import matplotlib.pyplot as plt\n",
    "\n",
    "class slot_machine:\n",
    "    slots = []\n",
    "    def __init__(self, k):\n",
    "            for i in range(k):\n",
    "                mean = random.randint(-5,5)\n",
    "                std = random.randint(1,60)\n",
    "                self.slots.append((mean, std))\n",
    "                \n",
    "    def pull_slot(self, k):\n",
    "        mean, std = self.slots[k]\n",
    "        return np.random.normal(mean, std)\n",
    "\n",
    "def main():\n",
    "    create_machine(5, 1000)\n",
    "\n",
    "def create_machine(k, num_runs):\n",
    "    my_slot = slot_machine(k)\n",
    "\n",
    "    #initializing variables\n",
    "    slot_data = []\n",
    "    rwd_over_time = []\n",
    "    rwd = 0\n",
    "    total_rwd = 0\n",
    "    avg_rwd = 0\n",
    "    avg_rwd_per_slot = np.zeros(k)\n",
    "    avg_rwd_time = []\n",
    "    \n",
    "    best_slot = random.randint(0, k-1) # initially choose random slot\n",
    "    exp_chance = .1 # chance to explore instead of choosing greedily\n",
    "\n",
    "\n",
    "    #run experiment\n",
    "    print(\"starting to run\")\n",
    "   # print(\"k-1 = \" + str(k))\n",
    "    for i in range(num_runs):\n",
    "        \n",
    "        do_exp = random.random()\n",
    "        if(do_exp <= exp_chance):\n",
    "            next_slot = random.randint(0,k-1)\n",
    "            while next_slot == best_slot:\n",
    "               next_slot = random.randint(0,k-1) \n",
    "                \n",
    "        else: next_slot = best_slot\n",
    "        \n",
    "        \n",
    "        next_slot = int(next_slot)\n",
    "        #print(type(next_slot))\n",
    "        #pull slot!\n",
    "        #print(\"pulling slot \" + str(int(next_slot)))\n",
    "        rwd = my_slot.pull_slot(int(next_slot))\n",
    "\n",
    "\n",
    "        #calculate avg reward in total and for each slot\n",
    "        total_rwd += rwd\n",
    "        rwd_over_time.append(total_rwd)\n",
    "        avg_rwd += (1/(i+1))*(rwd-avg_rwd)\n",
    "        avg_rwd_time.append(avg_rwd)\n",
    "        avg_rwd_per_slot[next_slot] += (1/(i+1)) * (rwd-avg_rwd_per_slot[next_slot]) #update avg\n",
    "        #update greedy choice\n",
    "        best_slot = avg_rwd_per_slot.tolist().index(max(avg_rwd_per_slot))\n",
    "\n",
    "\n",
    "\n",
    "    #create  chart of avg reward per slot vs actual mean and std\n",
    "    x = range(1, num_runs+1)\n",
    "    plt.plot(x, avg_rwd_time)\n",
    "    for i in range(k):\n",
    "        print(\"slot \" + str(i) + \": \" + str(slot_machine.slots[i]))\n",
    "              \n",
    "    print(\"best slot: \" + str(best_slot))\n",
    "    print(\"avg rwd: \" + str(avg_rwd_time[num_runs-1]))\n",
    "\n",
    "main()"
   ]
  },
  {
   "cell_type": "code",
   "execution_count": null,
   "metadata": {},
   "outputs": [],
   "source": []
  }
 ],
 "metadata": {
  "kernelspec": {
   "display_name": "Python 3",
   "language": "python",
   "name": "python3"
  },
  "language_info": {
   "codemirror_mode": {
    "name": "ipython",
    "version": 3
   },
   "file_extension": ".py",
   "mimetype": "text/x-python",
   "name": "python",
   "nbconvert_exporter": "python",
   "pygments_lexer": "ipython3",
   "version": "3.6.5"
  }
 },
 "nbformat": 4,
 "nbformat_minor": 2
}
